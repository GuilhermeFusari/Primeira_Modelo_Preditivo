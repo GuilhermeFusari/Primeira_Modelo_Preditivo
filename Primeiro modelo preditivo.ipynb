{
 "cells": [
  {
   "cell_type": "code",
   "execution_count": 2,
   "id": "e8bdd45e",
   "metadata": {},
   "outputs": [],
   "source": [
    "import numpy as np\n",
    "import pandas as pd\n",
    "import matplotlib.pyplot as plt\n",
    "from sklearn.model_selection import train_test_split"
   ]
  },
  {
   "cell_type": "markdown",
   "id": "20640f9d",
   "metadata": {},
   "source": [
    "# Retirando valores nulos\n"
   ]
  },
  {
   "cell_type": "code",
   "execution_count": 3,
   "id": "bd511282",
   "metadata": {},
   "outputs": [
    {
     "data": {
      "text/html": [
       "<div>\n",
       "<style scoped>\n",
       "    .dataframe tbody tr th:only-of-type {\n",
       "        vertical-align: middle;\n",
       "    }\n",
       "\n",
       "    .dataframe tbody tr th {\n",
       "        vertical-align: top;\n",
       "    }\n",
       "\n",
       "    .dataframe thead th {\n",
       "        text-align: right;\n",
       "    }\n",
       "</style>\n",
       "<table border=\"1\" class=\"dataframe\">\n",
       "  <thead>\n",
       "    <tr style=\"text-align: right;\">\n",
       "      <th></th>\n",
       "      <th>Data</th>\n",
       "      <th>Temperatura Media (C)</th>\n",
       "      <th>Temperatura Minima (C)</th>\n",
       "      <th>Temperatura Maxima (C)</th>\n",
       "      <th>Precipitacao (mm)</th>\n",
       "      <th>Final de Semana</th>\n",
       "      <th>Consumo de cerveja (litros)</th>\n",
       "    </tr>\n",
       "  </thead>\n",
       "  <tbody>\n",
       "    <tr>\n",
       "      <th>0</th>\n",
       "      <td>False</td>\n",
       "      <td>False</td>\n",
       "      <td>False</td>\n",
       "      <td>False</td>\n",
       "      <td>False</td>\n",
       "      <td>False</td>\n",
       "      <td>False</td>\n",
       "    </tr>\n",
       "    <tr>\n",
       "      <th>1</th>\n",
       "      <td>False</td>\n",
       "      <td>False</td>\n",
       "      <td>False</td>\n",
       "      <td>False</td>\n",
       "      <td>False</td>\n",
       "      <td>False</td>\n",
       "      <td>False</td>\n",
       "    </tr>\n",
       "    <tr>\n",
       "      <th>2</th>\n",
       "      <td>False</td>\n",
       "      <td>False</td>\n",
       "      <td>False</td>\n",
       "      <td>False</td>\n",
       "      <td>False</td>\n",
       "      <td>False</td>\n",
       "      <td>False</td>\n",
       "    </tr>\n",
       "    <tr>\n",
       "      <th>3</th>\n",
       "      <td>False</td>\n",
       "      <td>False</td>\n",
       "      <td>False</td>\n",
       "      <td>False</td>\n",
       "      <td>False</td>\n",
       "      <td>False</td>\n",
       "      <td>False</td>\n",
       "    </tr>\n",
       "    <tr>\n",
       "      <th>4</th>\n",
       "      <td>False</td>\n",
       "      <td>False</td>\n",
       "      <td>False</td>\n",
       "      <td>False</td>\n",
       "      <td>False</td>\n",
       "      <td>False</td>\n",
       "      <td>False</td>\n",
       "    </tr>\n",
       "    <tr>\n",
       "      <th>...</th>\n",
       "      <td>...</td>\n",
       "      <td>...</td>\n",
       "      <td>...</td>\n",
       "      <td>...</td>\n",
       "      <td>...</td>\n",
       "      <td>...</td>\n",
       "      <td>...</td>\n",
       "    </tr>\n",
       "    <tr>\n",
       "      <th>936</th>\n",
       "      <td>True</td>\n",
       "      <td>True</td>\n",
       "      <td>True</td>\n",
       "      <td>True</td>\n",
       "      <td>True</td>\n",
       "      <td>True</td>\n",
       "      <td>True</td>\n",
       "    </tr>\n",
       "    <tr>\n",
       "      <th>937</th>\n",
       "      <td>True</td>\n",
       "      <td>True</td>\n",
       "      <td>True</td>\n",
       "      <td>True</td>\n",
       "      <td>True</td>\n",
       "      <td>True</td>\n",
       "      <td>True</td>\n",
       "    </tr>\n",
       "    <tr>\n",
       "      <th>938</th>\n",
       "      <td>True</td>\n",
       "      <td>True</td>\n",
       "      <td>True</td>\n",
       "      <td>True</td>\n",
       "      <td>True</td>\n",
       "      <td>True</td>\n",
       "      <td>True</td>\n",
       "    </tr>\n",
       "    <tr>\n",
       "      <th>939</th>\n",
       "      <td>True</td>\n",
       "      <td>True</td>\n",
       "      <td>True</td>\n",
       "      <td>True</td>\n",
       "      <td>True</td>\n",
       "      <td>True</td>\n",
       "      <td>True</td>\n",
       "    </tr>\n",
       "    <tr>\n",
       "      <th>940</th>\n",
       "      <td>True</td>\n",
       "      <td>True</td>\n",
       "      <td>True</td>\n",
       "      <td>True</td>\n",
       "      <td>True</td>\n",
       "      <td>True</td>\n",
       "      <td>True</td>\n",
       "    </tr>\n",
       "  </tbody>\n",
       "</table>\n",
       "<p>941 rows × 7 columns</p>\n",
       "</div>"
      ],
      "text/plain": [
       "      Data  Temperatura Media (C)  Temperatura Minima (C)  \\\n",
       "0    False                  False                   False   \n",
       "1    False                  False                   False   \n",
       "2    False                  False                   False   \n",
       "3    False                  False                   False   \n",
       "4    False                  False                   False   \n",
       "..     ...                    ...                     ...   \n",
       "936   True                   True                    True   \n",
       "937   True                   True                    True   \n",
       "938   True                   True                    True   \n",
       "939   True                   True                    True   \n",
       "940   True                   True                    True   \n",
       "\n",
       "     Temperatura Maxima (C)  Precipitacao (mm)  Final de Semana  \\\n",
       "0                     False              False            False   \n",
       "1                     False              False            False   \n",
       "2                     False              False            False   \n",
       "3                     False              False            False   \n",
       "4                     False              False            False   \n",
       "..                      ...                ...              ...   \n",
       "936                    True               True             True   \n",
       "937                    True               True             True   \n",
       "938                    True               True             True   \n",
       "939                    True               True             True   \n",
       "940                    True               True             True   \n",
       "\n",
       "     Consumo de cerveja (litros)  \n",
       "0                          False  \n",
       "1                          False  \n",
       "2                          False  \n",
       "3                          False  \n",
       "4                          False  \n",
       "..                           ...  \n",
       "936                         True  \n",
       "937                         True  \n",
       "938                         True  \n",
       "939                         True  \n",
       "940                         True  \n",
       "\n",
       "[941 rows x 7 columns]"
      ]
     },
     "execution_count": 3,
     "metadata": {},
     "output_type": "execute_result"
    }
   ],
   "source": [
    "df = pd.read_csv('Consumo_cerveja.csv')\n",
    "df.isna()"
   ]
  },
  {
   "cell_type": "code",
   "execution_count": 4,
   "id": "b80defe3",
   "metadata": {},
   "outputs": [
    {
     "data": {
      "text/plain": [
       "Data                           0\n",
       "Temperatura Media (C)          0\n",
       "Temperatura Minima (C)         0\n",
       "Temperatura Maxima (C)         0\n",
       "Precipitacao (mm)              0\n",
       "Final de Semana                0\n",
       "Consumo de cerveja (litros)    0\n",
       "dtype: int64"
      ]
     },
     "execution_count": 4,
     "metadata": {},
     "output_type": "execute_result"
    }
   ],
   "source": [
    "df = df.dropna(how='all')\n",
    "df.isna().sum()"
   ]
  },
  {
   "cell_type": "markdown",
   "id": "52fa7fe4",
   "metadata": {},
   "source": [
    "# Deixando as Colunas de interesse"
   ]
  },
  {
   "cell_type": "code",
   "execution_count": 5,
   "id": "74139644",
   "metadata": {},
   "outputs": [
    {
     "data": {
      "text/html": [
       "<div>\n",
       "<style scoped>\n",
       "    .dataframe tbody tr th:only-of-type {\n",
       "        vertical-align: middle;\n",
       "    }\n",
       "\n",
       "    .dataframe tbody tr th {\n",
       "        vertical-align: top;\n",
       "    }\n",
       "\n",
       "    .dataframe thead th {\n",
       "        text-align: right;\n",
       "    }\n",
       "</style>\n",
       "<table border=\"1\" class=\"dataframe\">\n",
       "  <thead>\n",
       "    <tr style=\"text-align: right;\">\n",
       "      <th></th>\n",
       "      <th>Temperatura Media (C)</th>\n",
       "      <th>Final de Semana</th>\n",
       "      <th>Consumo de cerveja (litros)</th>\n",
       "    </tr>\n",
       "  </thead>\n",
       "  <tbody>\n",
       "    <tr>\n",
       "      <th>0</th>\n",
       "      <td>27,3</td>\n",
       "      <td>0.0</td>\n",
       "      <td>25.461</td>\n",
       "    </tr>\n",
       "    <tr>\n",
       "      <th>1</th>\n",
       "      <td>27,02</td>\n",
       "      <td>0.0</td>\n",
       "      <td>28.972</td>\n",
       "    </tr>\n",
       "    <tr>\n",
       "      <th>2</th>\n",
       "      <td>24,82</td>\n",
       "      <td>1.0</td>\n",
       "      <td>30.814</td>\n",
       "    </tr>\n",
       "    <tr>\n",
       "      <th>3</th>\n",
       "      <td>23,98</td>\n",
       "      <td>1.0</td>\n",
       "      <td>29.799</td>\n",
       "    </tr>\n",
       "    <tr>\n",
       "      <th>4</th>\n",
       "      <td>23,82</td>\n",
       "      <td>0.0</td>\n",
       "      <td>28.900</td>\n",
       "    </tr>\n",
       "    <tr>\n",
       "      <th>...</th>\n",
       "      <td>...</td>\n",
       "      <td>...</td>\n",
       "      <td>...</td>\n",
       "    </tr>\n",
       "    <tr>\n",
       "      <th>360</th>\n",
       "      <td>24</td>\n",
       "      <td>1.0</td>\n",
       "      <td>32.307</td>\n",
       "    </tr>\n",
       "    <tr>\n",
       "      <th>361</th>\n",
       "      <td>22,64</td>\n",
       "      <td>0.0</td>\n",
       "      <td>26.095</td>\n",
       "    </tr>\n",
       "    <tr>\n",
       "      <th>362</th>\n",
       "      <td>21,68</td>\n",
       "      <td>0.0</td>\n",
       "      <td>22.309</td>\n",
       "    </tr>\n",
       "    <tr>\n",
       "      <th>363</th>\n",
       "      <td>21,38</td>\n",
       "      <td>0.0</td>\n",
       "      <td>20.467</td>\n",
       "    </tr>\n",
       "    <tr>\n",
       "      <th>364</th>\n",
       "      <td>24,76</td>\n",
       "      <td>0.0</td>\n",
       "      <td>22.446</td>\n",
       "    </tr>\n",
       "  </tbody>\n",
       "</table>\n",
       "<p>365 rows × 3 columns</p>\n",
       "</div>"
      ],
      "text/plain": [
       "    Temperatura Media (C)  Final de Semana  Consumo de cerveja (litros)\n",
       "0                    27,3              0.0                       25.461\n",
       "1                   27,02              0.0                       28.972\n",
       "2                   24,82              1.0                       30.814\n",
       "3                   23,98              1.0                       29.799\n",
       "4                   23,82              0.0                       28.900\n",
       "..                    ...              ...                          ...\n",
       "360                    24              1.0                       32.307\n",
       "361                 22,64              0.0                       26.095\n",
       "362                 21,68              0.0                       22.309\n",
       "363                 21,38              0.0                       20.467\n",
       "364                 24,76              0.0                       22.446\n",
       "\n",
       "[365 rows x 3 columns]"
      ]
     },
     "execution_count": 5,
     "metadata": {},
     "output_type": "execute_result"
    }
   ],
   "source": [
    "data = df.drop(['Data', 'Temperatura Minima (C)','Temperatura Maxima (C)','Precipitacao (mm)'], axis=1)\n",
    "data"
   ]
  },
  {
   "cell_type": "markdown",
   "id": "23a7abd5",
   "metadata": {},
   "source": [
    "## Transformando \",\" em \".\" para o tipo de data ser float"
   ]
  },
  {
   "cell_type": "code",
   "execution_count": 6,
   "id": "1192ff5c",
   "metadata": {},
   "outputs": [
    {
     "data": {
      "text/html": [
       "<div>\n",
       "<style scoped>\n",
       "    .dataframe tbody tr th:only-of-type {\n",
       "        vertical-align: middle;\n",
       "    }\n",
       "\n",
       "    .dataframe tbody tr th {\n",
       "        vertical-align: top;\n",
       "    }\n",
       "\n",
       "    .dataframe thead th {\n",
       "        text-align: right;\n",
       "    }\n",
       "</style>\n",
       "<table border=\"1\" class=\"dataframe\">\n",
       "  <thead>\n",
       "    <tr style=\"text-align: right;\">\n",
       "      <th></th>\n",
       "      <th>Temperatura Media (C)</th>\n",
       "      <th>Final de Semana</th>\n",
       "      <th>Consumo de cerveja (litros)</th>\n",
       "    </tr>\n",
       "  </thead>\n",
       "  <tbody>\n",
       "    <tr>\n",
       "      <th>0</th>\n",
       "      <td>27.3</td>\n",
       "      <td>0.0</td>\n",
       "      <td>25.461</td>\n",
       "    </tr>\n",
       "    <tr>\n",
       "      <th>1</th>\n",
       "      <td>27.02</td>\n",
       "      <td>0.0</td>\n",
       "      <td>28.972</td>\n",
       "    </tr>\n",
       "    <tr>\n",
       "      <th>2</th>\n",
       "      <td>24.82</td>\n",
       "      <td>1.0</td>\n",
       "      <td>30.814</td>\n",
       "    </tr>\n",
       "    <tr>\n",
       "      <th>3</th>\n",
       "      <td>23.98</td>\n",
       "      <td>1.0</td>\n",
       "      <td>29.799</td>\n",
       "    </tr>\n",
       "    <tr>\n",
       "      <th>4</th>\n",
       "      <td>23.82</td>\n",
       "      <td>0.0</td>\n",
       "      <td>28.900</td>\n",
       "    </tr>\n",
       "  </tbody>\n",
       "</table>\n",
       "</div>"
      ],
      "text/plain": [
       "  Temperatura Media (C)  Final de Semana  Consumo de cerveja (litros)\n",
       "0                  27.3              0.0                       25.461\n",
       "1                 27.02              0.0                       28.972\n",
       "2                 24.82              1.0                       30.814\n",
       "3                 23.98              1.0                       29.799\n",
       "4                 23.82              0.0                       28.900"
      ]
     },
     "execution_count": 6,
     "metadata": {},
     "output_type": "execute_result"
    }
   ],
   "source": [
    "data['Temperatura Media (C)'] = data['Temperatura Media (C)'].str.replace(',', '.')\n",
    "data.head()"
   ]
  },
  {
   "cell_type": "markdown",
   "id": "8c6a8746",
   "metadata": {},
   "source": [
    "## Transformando os dias da semana em numeros de 1-7"
   ]
  },
  {
   "cell_type": "code",
   "execution_count": 7,
   "id": "80a7b84a",
   "metadata": {},
   "outputs": [],
   "source": [
    "lista = data['Final de Semana']\n",
    "lista = lista.astype(int)"
   ]
  },
  {
   "cell_type": "code",
   "execution_count": 8,
   "id": "3d377465",
   "metadata": {},
   "outputs": [],
   "source": [
    "def Transforma(lista):\n",
    "    x = 0\n",
    "    while x <= 364:\n",
    "        if lista[x] == 1:\n",
    "            if lista[x+1] == 0:\n",
    "                lista[x+1] = 2\n",
    "            else:\n",
    "                pass\n",
    "        else:\n",
    "            pass\n",
    "        x+=1  \n",
    "    x = 0\n",
    "    while x <= 364:\n",
    "        if lista[x] == 2:\n",
    "            if lista[x+1] == 0:\n",
    "                lista[x+1] = 3\n",
    "            else:\n",
    "                pass\n",
    "        else:\n",
    "            pass\n",
    "        x+=1 \n",
    "    x = 0\n",
    "    while x <= 364:\n",
    "        if lista[x] == 3:\n",
    "            if lista[x+1] == 0:\n",
    "                lista[x+1] = 4\n",
    "            else:\n",
    "                pass\n",
    "        else:\n",
    "            pass\n",
    "        x+=1 \n",
    "    x = 0\n",
    "    while x <= 364:\n",
    "        if lista[x] == 4:\n",
    "            if lista[x+1] == 0:\n",
    "                lista[x+1] = 5\n",
    "            else:\n",
    "                pass\n",
    "        else:\n",
    "            pass\n",
    "        x+=1 \n",
    "    x = 0\n",
    "    while x <= 364:\n",
    "        if lista[x] == 1:\n",
    "            if lista[x+1] == 1:\n",
    "                lista[x] = 7\n",
    "            else:\n",
    "                pass\n",
    "        else:\n",
    "            pass\n",
    "        x+=1 \n",
    "    x = 0\n",
    "    while x <= 364:\n",
    "        if lista[x] == 7:\n",
    "            if lista[x-1] == 0:\n",
    "                lista[x-1] = 6\n",
    "            else:\n",
    "                pass\n",
    "        else:\n",
    "            pass\n",
    "        x+=1\n",
    "    return "
   ]
  },
  {
   "cell_type": "code",
   "execution_count": 9,
   "id": "0868fb11",
   "metadata": {},
   "outputs": [],
   "source": [
    "Transforma(lista)"
   ]
  },
  {
   "cell_type": "code",
   "execution_count": 10,
   "id": "76c04e2a",
   "metadata": {},
   "outputs": [
    {
     "data": {
      "text/plain": [
       "0      5\n",
       "1      6\n",
       "2      7\n",
       "3      1\n",
       "4      2\n",
       "      ..\n",
       "360    1\n",
       "361    2\n",
       "362    3\n",
       "363    4\n",
       "364    5\n",
       "Name: Final de Semana, Length: 365, dtype: int32"
      ]
     },
     "execution_count": 10,
     "metadata": {},
     "output_type": "execute_result"
    }
   ],
   "source": [
    "lista[0] , lista[1] = 5, 6\n",
    "data['Final de Semana'] = pd.DataFrame(lista)\n",
    "data['Final de Semana']"
   ]
  },
  {
   "cell_type": "code",
   "execution_count": 11,
   "id": "cfa0754f",
   "metadata": {},
   "outputs": [],
   "source": [
    "data['Final de Semana'] = data['Final de Semana'].astype(float)"
   ]
  },
  {
   "cell_type": "code",
   "execution_count": 12,
   "id": "9d56e853",
   "metadata": {},
   "outputs": [
    {
     "data": {
      "text/html": [
       "<div>\n",
       "<style scoped>\n",
       "    .dataframe tbody tr th:only-of-type {\n",
       "        vertical-align: middle;\n",
       "    }\n",
       "\n",
       "    .dataframe tbody tr th {\n",
       "        vertical-align: top;\n",
       "    }\n",
       "\n",
       "    .dataframe thead th {\n",
       "        text-align: right;\n",
       "    }\n",
       "</style>\n",
       "<table border=\"1\" class=\"dataframe\">\n",
       "  <thead>\n",
       "    <tr style=\"text-align: right;\">\n",
       "      <th></th>\n",
       "      <th>Temperatura Media (C)</th>\n",
       "      <th>Final de Semana</th>\n",
       "      <th>Consumo de cerveja (litros)</th>\n",
       "    </tr>\n",
       "  </thead>\n",
       "  <tbody>\n",
       "    <tr>\n",
       "      <th>0</th>\n",
       "      <td>27.3</td>\n",
       "      <td>5.0</td>\n",
       "      <td>25.461</td>\n",
       "    </tr>\n",
       "    <tr>\n",
       "      <th>1</th>\n",
       "      <td>27.02</td>\n",
       "      <td>6.0</td>\n",
       "      <td>28.972</td>\n",
       "    </tr>\n",
       "    <tr>\n",
       "      <th>2</th>\n",
       "      <td>24.82</td>\n",
       "      <td>7.0</td>\n",
       "      <td>30.814</td>\n",
       "    </tr>\n",
       "    <tr>\n",
       "      <th>3</th>\n",
       "      <td>23.98</td>\n",
       "      <td>1.0</td>\n",
       "      <td>29.799</td>\n",
       "    </tr>\n",
       "    <tr>\n",
       "      <th>4</th>\n",
       "      <td>23.82</td>\n",
       "      <td>2.0</td>\n",
       "      <td>28.900</td>\n",
       "    </tr>\n",
       "  </tbody>\n",
       "</table>\n",
       "</div>"
      ],
      "text/plain": [
       "  Temperatura Media (C)  Final de Semana  Consumo de cerveja (litros)\n",
       "0                  27.3              5.0                       25.461\n",
       "1                 27.02              6.0                       28.972\n",
       "2                 24.82              7.0                       30.814\n",
       "3                 23.98              1.0                       29.799\n",
       "4                 23.82              2.0                       28.900"
      ]
     },
     "execution_count": 12,
     "metadata": {},
     "output_type": "execute_result"
    }
   ],
   "source": [
    "data.head()"
   ]
  },
  {
   "cell_type": "markdown",
   "id": "c7cbab32",
   "metadata": {},
   "source": [
    "# Normalizando dados"
   ]
  },
  {
   "cell_type": "code",
   "execution_count": 13,
   "id": "6558f2f6",
   "metadata": {},
   "outputs": [
    {
     "data": {
      "text/html": [
       "<div>\n",
       "<style scoped>\n",
       "    .dataframe tbody tr th:only-of-type {\n",
       "        vertical-align: middle;\n",
       "    }\n",
       "\n",
       "    .dataframe tbody tr th {\n",
       "        vertical-align: top;\n",
       "    }\n",
       "\n",
       "    .dataframe thead th {\n",
       "        text-align: right;\n",
       "    }\n",
       "</style>\n",
       "<table border=\"1\" class=\"dataframe\">\n",
       "  <thead>\n",
       "    <tr style=\"text-align: right;\">\n",
       "      <th></th>\n",
       "      <th>0</th>\n",
       "      <th>1</th>\n",
       "      <th>2</th>\n",
       "    </tr>\n",
       "  </thead>\n",
       "  <tbody>\n",
       "    <tr>\n",
       "      <th>count</th>\n",
       "      <td>365.000000</td>\n",
       "      <td>365.000000</td>\n",
       "      <td>365.000000</td>\n",
       "    </tr>\n",
       "    <tr>\n",
       "      <th>mean</th>\n",
       "      <td>0.521702</td>\n",
       "      <td>0.500457</td>\n",
       "      <td>0.468694</td>\n",
       "    </tr>\n",
       "    <tr>\n",
       "      <th>std</th>\n",
       "      <td>0.199255</td>\n",
       "      <td>0.333447</td>\n",
       "      <td>0.186452</td>\n",
       "    </tr>\n",
       "    <tr>\n",
       "      <th>min</th>\n",
       "      <td>0.000000</td>\n",
       "      <td>0.000000</td>\n",
       "      <td>0.000000</td>\n",
       "    </tr>\n",
       "    <tr>\n",
       "      <th>25%</th>\n",
       "      <td>0.383459</td>\n",
       "      <td>0.166667</td>\n",
       "      <td>0.324871</td>\n",
       "    </tr>\n",
       "    <tr>\n",
       "      <th>50%</th>\n",
       "      <td>0.531328</td>\n",
       "      <td>0.500000</td>\n",
       "      <td>0.446046</td>\n",
       "    </tr>\n",
       "    <tr>\n",
       "      <th>75%</th>\n",
       "      <td>0.650376</td>\n",
       "      <td>0.833333</td>\n",
       "      <td>0.605578</td>\n",
       "    </tr>\n",
       "    <tr>\n",
       "      <th>max</th>\n",
       "      <td>1.000000</td>\n",
       "      <td>1.000000</td>\n",
       "      <td>1.000000</td>\n",
       "    </tr>\n",
       "  </tbody>\n",
       "</table>\n",
       "</div>"
      ],
      "text/plain": [
       "                0           1           2\n",
       "count  365.000000  365.000000  365.000000\n",
       "mean     0.521702    0.500457    0.468694\n",
       "std      0.199255    0.333447    0.186452\n",
       "min      0.000000    0.000000    0.000000\n",
       "25%      0.383459    0.166667    0.324871\n",
       "50%      0.531328    0.500000    0.446046\n",
       "75%      0.650376    0.833333    0.605578\n",
       "max      1.000000    1.000000    1.000000"
      ]
     },
     "execution_count": 13,
     "metadata": {},
     "output_type": "execute_result"
    }
   ],
   "source": [
    "from sklearn.preprocessing import MinMaxScaler\n",
    "obj_norm = MinMaxScaler().fit(data)\n",
    "df_final = obj_norm.transform(data)\n",
    "df_final = pd.DataFrame(df_final)\n",
    "df_final.describe()"
   ]
  },
  {
   "cell_type": "markdown",
   "id": "357320a3",
   "metadata": {},
   "source": [
    "## Analisando graficamente os dados"
   ]
  },
  {
   "cell_type": "code",
   "execution_count": 33,
   "id": "1d14e1cb",
   "metadata": {},
   "outputs": [
    {
     "data": {
      "text/plain": [
       "<matplotlib.collections.PathCollection at 0x1c260cc6fa0>"
      ]
     },
     "execution_count": 33,
     "metadata": {},
     "output_type": "execute_result"
    },
    {
     "data": {
      "image/png": "[encoded data removed]",
      "text/plain": [
       "<Figure size 640x480 with 1 Axes>"
      ]
     },
     "metadata": {},
     "output_type": "display_data"
    }
   ],
   "source": [
    "x = df_final[0]\n",
    "y = df_final[2]\n",
    "z = df_final[1]\n",
    "plt.xlabel(\"Consumo de cerveja (litros)\")\n",
    "plt.ylabel(\"Temperatura\")\n",
    "plt.title(\"Consumo de Cerveja\")\n",
    "plt.scatter(x,y,z*100, alpha = 0.3)"
   ]
  },
  {
   "cell_type": "code",
   "execution_count": 15,
   "id": "83914df4",
   "metadata": {},
   "outputs": [
    {
     "data": {
      "text/plain": [
       "<BarContainer object of 365 artists>"
      ]
     },
     "execution_count": 15,
     "metadata": {},
     "output_type": "execute_result"
    },
    {
     "data": {
      "image/png": "[encoded data removed]",
      "text/plain": [
       "<Figure size 640x480 with 1 Axes>"
      ]
     },
     "metadata": {},
     "output_type": "display_data"
    }
   ],
   "source": [
    "plt.title(\"Consumo de Cerveja em Cada dia\")\n",
    "plt.xlabel(\"Consumo de cerveja (litros)\")\n",
    "plt.ylabel(\"Dias da Semana\")\n",
    "x = df_final[1]\n",
    "y = df_final[2]\n",
    "plt.bar(x,y)"
   ]
  },
  {
   "cell_type": "code",
   "execution_count": 25,
   "id": "d83e4f2b",
   "metadata": {},
   "outputs": [
    {
     "data": {
      "text/plain": [
       "<matplotlib.collections.PathCollection at 0x1c25f9b56d0>"
      ]
     },
     "execution_count": 25,
     "metadata": {},
     "output_type": "execute_result"
    },
    {
     "data": {
      "image/png": "[encoded data removed]",
      "text/plain": [
       "<Figure size 640x480 with 1 Axes>"
      ]
     },
     "metadata": {},
     "output_type": "display_data"
    }
   ],
   "source": [
    "x = df_final[1]\n",
    "y = df_final[2]\n",
    "plt.scatter(x,y)"
   ]
  },
  {
   "cell_type": "markdown",
   "id": "a3c9eb28",
   "metadata": {},
   "source": [
    "# Dividindo entre variaveis de teste e de treino"
   ]
  },
  {
   "cell_type": "code",
   "execution_count": null,
   "id": "5d40d230",
   "metadata": {},
   "outputs": [],
   "source": [
    "dt_var = df_final[df_final.columns[0:-1]]\n",
    "dt_res = df_final[df_final.columns[-1:]]"
   ]
  },
  {
   "cell_type": "code",
   "execution_count": null,
   "id": "3debe185",
   "metadata": {},
   "outputs": [],
   "source": [
    "x_train, x_test, y_train, y_test = train_test_split(dt_var, dt_res, test_size= 0.3)"
   ]
  },
  {
   "cell_type": "code",
   "execution_count": null,
   "id": "245bf183",
   "metadata": {},
   "outputs": [],
   "source": []
  }
 ],
 "metadata": {
  "kernelspec": {
   "display_name": "Python 3 (ipykernel)",
   "language": "python",
   "name": "python3"
  },
  "language_info": {
   "codemirror_mode": {
    "name": "ipython",
    "version": 3
   },
   "file_extension": ".py",
   "mimetype": "text/x-python",
   "name": "python",
   "nbconvert_exporter": "python",
   "pygments_lexer": "ipython3",
   "version": "3.9.13"
  }
 },
 "nbformat": 4,
 "nbformat_minor": 5
}
